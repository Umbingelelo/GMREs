{
 "cells": [
  {
   "cell_type": "code",
   "execution_count": 114,
   "metadata": {},
   "outputs": [],
   "source": [
    "import numpy as np"
   ]
  },
  {
   "cell_type": "code",
   "execution_count": 115,
   "metadata": {},
   "outputs": [],
   "source": [
    "def GMRes_matrix_free(afun, b, x0, threshold):\n",
    "    xt = np.zeros(len(x0))\n",
    "    r0 = b - afun(x0)\n",
    "    nr0 = np.linalg.norm(r0)\n",
    "    Q = np.zeros((len(x0), len(x0)))\n",
    "    H = np.zeros((len(x0), len(x0)))\n",
    "    Q[:, 0] = r0 / nr0\n",
    "    for k in range(len(x0)):\n",
    "        y = afun(Q[:, k])\n",
    "        for j in range(k + 1):\n",
    "            H[j][k] = np.dot(Q[:, j], y)\n",
    "            y = y - np.dot(H[j][k], Q[:, j])\n",
    "        if k + 1 < len(x0):\n",
    "            H[k + 1][k] = np.linalg.norm(y)\n",
    "            if np.abs(H[k + 1][k]) > 1e-16:\n",
    "                Q[:, k + 1] = y / H[k + 1][k]\n",
    "            else:\n",
    "                break\n",
    "            e1 = np.zeros((k + 1) + 1)\n",
    "            e1[0] = 1\n",
    "            H_tilde = H[0:(k + 1) + 1, 0:k + 1]\n",
    "        else:\n",
    "            H_tilde = H[0:k + 1, 0:k + 1]\n",
    "        ck = np.linalg.lstsq(H_tilde, nr0 * e1)[0]\n",
    "        if k + 1 < len(x0):\n",
    "            x = x0 + np.dot(Q[:, 0:(k + 1)], ck)\n",
    "        else:\n",
    "            x = x0 + np.dot(Q, ck)\n",
    "        norm_small = np.linalg.norm(np.dot(H_tilde, ck) - nr0 * e1)\n",
    "        if norm_small < threshold:\n",
    "            break\n",
    "    return x "
   ]
  },
  {
   "cell_type": "code",
   "execution_count": 124,
   "metadata": {},
   "outputs": [],
   "source": [
    "def find_x(n,l,B_1,SFP,b,delta):\n",
    "    x0 = np.zeros(n)\n",
    "    #afun return vector w that corresponds to the product between the matrix A and the vector v\n",
    "    def afun(v):\n",
    "        b1 = v\n",
    "        for i in range(l):\n",
    "            b1 = np.dot(B_1, b1) + SFP(b1)\n",
    "        return b1\n",
    "    threshold = delta \n",
    "    x_approx = GMRes_matrix_free(afun, b, x0, threshold)\n",
    "    return x_approx"
   ]
  },
  {
   "attachments": {},
   "cell_type": "markdown",
   "metadata": {},
   "source": [
    "Este código simula la solución al siguiente problema\n",
    "$$ (A)^{l}x = b $$\n",
    "\n",
    "Donde $A$ es una matriz de $n \\times n$ y $b$ es un vector de $n \\times 1$.\n",
    "\n",
    "Ademas, $A$ se construye de la siguiente manera: \n",
    "$$ B_{1} + B_{2} $$\n",
    "\n",
    "Siendo $B_{1}$  una matriz sparse y $B_{2}$ una matriz densa de $n \\times n$.\n",
    "\n",
    "El objetivo es resolver el problema solo tienendo acceso a la matriz $B_{1}$, el vector $b$, el exponente $l$ y $SFP(v)$ que es una función que simula el producto matriz-vector de $B_{2}$"
   ]
  },
  {
   "cell_type": "code",
   "execution_count": 139,
   "metadata": {},
   "outputs": [
    {
     "name": "stdout",
     "output_type": "stream",
     "text": [
      "Solución encontrada:\n",
      "[ 0.21372465  0.78860845 -0.55141346 -0.75039288 -0.03524315 -0.0983916\n",
      "  0.35994629 -0.39114274  0.25396645 -0.02578609 -0.663079   -0.66134821\n",
      " -0.57672823 -0.46591763  0.55749026 -0.15124978 -0.02643981  0.69383211\n",
      " -0.71997953 -0.54661962 -0.32273848 -0.3264034   0.26089507  1.21902421\n",
      "  0.37489504 -1.49989592 -1.99686771  1.24496069  0.11049341 -0.45201151\n",
      "  1.35608079  0.82826845 -0.35797778 -1.19739614  1.08842193 -0.4205288\n",
      " -0.49025229  0.47786459 -0.57255784 -0.35951668 -0.30280264  0.23893515\n",
      " -0.81758378 -0.14423217 -1.24671749 -0.27783712 -0.06660569 -0.62155251\n",
      " -0.02247946  0.57268424]\n",
      "Solución real:\n",
      "[ 0.21372465  0.78860845 -0.55141346 -0.75039288 -0.03524315 -0.0983916\n",
      "  0.35994629 -0.39114274  0.25396645 -0.02578609 -0.663079   -0.66134821\n",
      " -0.57672823 -0.46591763  0.55749026 -0.15124978 -0.02643981  0.69383211\n",
      " -0.71997953 -0.54661962 -0.32273848 -0.3264034   0.26089507  1.21902421\n",
      "  0.37489504 -1.49989592 -1.99686771  1.24496069  0.11049341 -0.45201151\n",
      "  1.35608079  0.82826845 -0.35797778 -1.19739614  1.08842193 -0.4205288\n",
      " -0.49025229  0.47786459 -0.57255784 -0.35951668 -0.30280264  0.23893515\n",
      " -0.81758378 -0.14423217 -1.24671749 -0.27783712 -0.06660569 -0.62155251\n",
      " -0.02247946  0.57268424]\n",
      "Error:\n",
      "9.343017769150433e-11\n"
     ]
    },
    {
     "name": "stderr",
     "output_type": "stream",
     "text": [
      "C:\\Users\\umbin\\AppData\\Local\\Temp\\ipykernel_17284\\1081799002.py:24: FutureWarning: `rcond` parameter will change to the default of machine precision times ``max(M, N)`` where M and N are the input matrix dimensions.\n",
      "To use the future default and silence this warning we advise to pass `rcond=None`, to keep using the old, explicitly pass `rcond=-1`.\n",
      "  ck = np.linalg.lstsq(H_tilde, nr0 * e1)[0]\n"
     ]
    }
   ],
   "source": [
    "# Definir dimensiones\n",
    "n = 50  # Dimensión del problema\n",
    "k = 10   # Número máximo de elementos distintos de cero por fila en B1\n",
    "l = 5    # Exponente de la matriz A\n",
    "\n",
    "# Generar matriz aleatoria B1\n",
    "B1 = np.zeros((n, n))\n",
    "for i in range(n):\n",
    "    # Generar vector aleatorio de índices\n",
    "    idx = np.random.choice(n, k, replace=False)\n",
    "    # Generar vector aleatorio de valores\n",
    "    vals = np.random.randn(k)\n",
    "    # Asignar valores a B1\n",
    "    B1[i, idx] = vals\n",
    "\n",
    "\n",
    "# Generar matriz B2 (simulación)\n",
    "B2 = np.random.randn(n, n)\n",
    "\n",
    "# Generar vector b aleatorio\n",
    "b = np.random.randn(n)\n",
    "\n",
    "# Definir delta\n",
    "delta = 1e-16\n",
    "\n",
    "\n",
    "def SFP(v):\n",
    "    return np.dot(B2, v)\n",
    "\n",
    "\n",
    "# Generar matriz B2 (simulación)\n",
    "B2 = np.random.randn(n, n)\n",
    "\n",
    "# Generar vector b aleatorio\n",
    "b = np.random.randn(n)\n",
    "\n",
    "# Definir delta\n",
    "delta = 1e-16\n",
    "\n",
    "def SFP(v):\n",
    "    return np.dot(B2, v)\n",
    "\n",
    "\n",
    "# Encontrar solución\n",
    "x = find_x(n,l,B1,SFP,b,delta)\n",
    "\n",
    "# Imprimir solución\n",
    "print(\"Solución encontrada:\")\n",
    "print(x)\n",
    "\n",
    "#armar matriz A\n",
    "A = B1 + B2\n",
    "A = np.linalg.matrix_power(A, l)\n",
    "print(\"Solución real:\")\n",
    "print(np.linalg.solve(A, b))\n",
    "\n",
    "#Calcular error\n",
    "error = np.linalg.norm(x - np.linalg.solve(A, b))\n",
    "    \n",
    "print(\"Error:\")\n",
    "print(error)"
   ]
  }
 ],
 "metadata": {
  "kernelspec": {
   "display_name": "Python 3",
   "language": "python",
   "name": "python3"
  },
  "language_info": {
   "codemirror_mode": {
    "name": "ipython",
    "version": 3
   },
   "file_extension": ".py",
   "mimetype": "text/x-python",
   "name": "python",
   "nbconvert_exporter": "python",
   "pygments_lexer": "ipython3",
   "version": "3.10.5"
  },
  "orig_nbformat": 4
 },
 "nbformat": 4,
 "nbformat_minor": 2
}
