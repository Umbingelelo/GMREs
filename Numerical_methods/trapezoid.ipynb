{
 "cells": [
  {
   "cell_type": "code",
   "execution_count": 288,
   "metadata": {},
   "outputs": [],
   "source": [
    "# Integración: Regla de los trapecios\n",
    "# Usando una muestras xi,fi\n",
    "import numpy as np\n",
    "import matplotlib.pyplot as plt\n",
    "\n",
    "#Funcion de muestra para calcular la integral  \n",
    "def integratrapecio_fi(xi,fi):\n",
    "    ''' sobre muestras de fi para cada xi\n",
    "        integral con método de trapecio\n",
    "    '''\n",
    "    n = len(xi)\n",
    "    suma = 0\n",
    "    for i in range(0,n-1,1):\n",
    "        dx = xi[i+1]-xi[i] # ancho del trapecio\n",
    "        altura = (fi[i+1]+fi[i])/2 # altura del trapecio\n",
    "        untrapecio = dx*altura\n",
    "        suma = suma + untrapecio\n",
    "    return(suma)\n",
    "\n",
    "\n"
   ]
  },
  {
   "cell_type": "code",
   "execution_count": 289,
   "metadata": {},
   "outputs": [],
   "source": [
    "\n",
    "\n",
    "#calculate aproximation of second derivative with no equally spaced points\n",
    "def AGSD(x1,y1,x2,y2,x3,y3):\n",
    "    first_term = 2*y1/(x1-x2)*(x3-x1)\n",
    "    second_term = 2*y2/(x1-x2)*(x3-x1)\n",
    "    third_term = 2*y2/(x2-x3)*(x3-x1)\n",
    "    fourth_term = 2*y3/(x1-x2)*(x3-x1)\n",
    "    aproximation = - first_term + second_term + third_term - fourth_term\n",
    "    return aproximation\n",
    "    \n",
    "\n",
    "\n",
    "def get_aproximation(x_k,y_k,n):\n",
    "    suma = 0\n",
    "    h= np.diff(x_k)\n",
    "    dy = np.diff(y_k)\n",
    "    #no estaba disponible np.sum\n",
    "    for i in range(0,n-1,1):\n",
    "        first_term = np.abs(dy[i]/h[i])\n",
    "        second_term = np.abs(dy[i+1]/h[i])\n",
    "        suma = suma + h[i]*0.5 * (first_term + second_term)\n",
    "    return suma\n",
    "\n",
    "\n",
    "\n",
    "    \n",
    "\n",
    "def jones(n,x_k,y_k,alpha,beta,gamma,j,delta):\n",
    "    total_var = get_aproximation(x_k,y_k,n)\n",
    "    check = False\n",
    "    if j == 0 or j == n+1:\n",
    "        check = False\n",
    "        return total_var,check\n",
    "    # calcular la edo\n",
    "    x_j_prev = x_k[j-1]\n",
    "    y_j_prev = y_k[j-1]\n",
    "    x_j = x_k[j]\n",
    "    y_j = y_k[j]\n",
    "    y_j_next = y_k[j+1]\n",
    "    x_j_next = x_k[j+1]\n",
    "    edo = np.abs(alpha*(AGSD(x_j_prev,y_j_prev,x_j,y_j,x_j_next,y_j_next)) + beta*(y_j_next-y_j_prev)/(x_j_next-x_j_prev) + gamma*y_j - 1)\n",
    "    if edo < delta:\n",
    "        check = True\n",
    "    return total_var,check\n",
    "\n"
   ]
  },
  {
   "cell_type": "code",
   "execution_count": 295,
   "metadata": {},
   "outputs": [
    {
     "data": {
      "text/plain": [
       "(0.04248830605652304, True)"
      ]
     },
     "execution_count": 295,
     "metadata": {},
     "output_type": "execute_result"
    }
   ],
   "source": [
    "def get_xk(a,b,n):\n",
    "    ''' n tramos, n+1 puntos\n",
    "    '''\n",
    "    #no equally spaced points\n",
    "    xi = np.random.uniform(a,b,n)\n",
    "    return(xi)\n",
    "\n",
    "def get_fi(xi):\n",
    "    fi = xi**2\n",
    "    return(fi)\n",
    "\n",
    "n_points = 3\n",
    "\n",
    "xi = get_xk(-1,1,n_points+1)\n",
    "fi = get_fi(xi)\n",
    "# print('xi: ',xi)\n",
    "# print('fi: ',fi)\n",
    "\n",
    "# PROCEDIMIENTO\n",
    "Area = integratrapecio_fi(xi,fi)\n",
    "\n",
    "# # SALIDA\n",
    "# print('puntos',len(xi))\n",
    "# print('tramos: ',len(xi)-1)\n",
    "# print('Integral con trapecio: ',Area)\n",
    "\n",
    "# #use numpy\n",
    "# xi = np.array(xi)\n",
    "# fi = np.array(fi)\n",
    "# Area = np.trapz(fi,xi)\n",
    "# print('Integral con numpy: ',Area)\n",
    "jones(n_points,xi,fi,1,1,1,1,1)"
   ]
  }
 ],
 "metadata": {
  "kernelspec": {
   "display_name": "Python 3",
   "language": "python",
   "name": "python3"
  },
  "language_info": {
   "codemirror_mode": {
    "name": "ipython",
    "version": 3
   },
   "file_extension": ".py",
   "mimetype": "text/x-python",
   "name": "python",
   "nbconvert_exporter": "python",
   "pygments_lexer": "ipython3",
   "version": "3.10.5"
  },
  "orig_nbformat": 4
 },
 "nbformat": 4,
 "nbformat_minor": 2
}
